{
 "cells": [
  {
   "cell_type": "code",
   "execution_count": 2,
   "id": "e3729587",
   "metadata": {},
   "outputs": [],
   "source": [
    "from pathlib import Path\n",
    "\n",
    "from matflow import load_workflow\n",
    "\n",
    "import numpy as np\n",
    "import matplotlib.pyplot as plt\n",
    "import scipy.ndimage\n",
    "from matplotlib import gridspec\n",
    "from PIL import Image\n",
    "import pandas as pd\n",
    "\n",
    "%matplotlib inline"
   ]
  },
  {
   "cell_type": "code",
   "execution_count": 3,
   "id": "42b9ea7d",
   "metadata": {},
   "outputs": [
    {
     "name": "stdout",
     "output_type": "stream",
     "text": [
      "Loading matflow config from C:\\Users\\mbgm5pc3\\.matflow\\config.yml\n",
      "Loading task schemas from 1 file(s)...OK!\n",
      "Loading software definitions from 1 file(s)...OK!\n"
     ]
    }
   ],
   "source": [
    "workflow = load_workflow('C:/Users/mbgm5pc3/Dropbox (The University of Manchester)/matflow_exports/cyclic_load_test_2021-11-22-171313')\n",
    "\n",
    "sim_task = workflow.tasks.simulate_volume_element_loading\n",
    "vol_elem_resp = sim_task.elements[0].outputs.volume_element_response"
   ]
  },
  {
   "cell_type": "code",
   "execution_count": 4,
   "id": "42516bee",
   "metadata": {},
   "outputs": [
    {
     "data": {
      "text/plain": [
       "(Task(name='generate_microstructure_seeds', method='random', software='damask'), Task(name='generate_volume_element', method='random_voronoi', software='damask'), Task(name='visualise_volume_element', method='VTK', software='damask'), Task(name='generate_load_case', method='cyclic_uniaxial', software='formable'), Task(name='simulate_volume_element_loading', method='CP_FFT', software='damask'))"
      ]
     },
     "execution_count": 4,
     "metadata": {},
     "output_type": "execute_result"
    }
   ],
   "source": [
    "workflow.tasks"
   ]
  },
  {
   "cell_type": "code",
   "execution_count": 5,
   "id": "5e1daa6c",
   "metadata": {},
   "outputs": [
    {
     "ename": "TypeError",
     "evalue": "'NoneType' object is not subscriptable",
     "output_type": "error",
     "traceback": [
      "\u001b[1;31m---------------------------------------------------------------------------\u001b[0m",
      "\u001b[1;31mTypeError\u001b[0m                                 Traceback (most recent call last)",
      "\u001b[1;32m<ipython-input-5-5670bb43a1f5>\u001b[0m in \u001b[0;36m<module>\u001b[1;34m\u001b[0m\n\u001b[1;32m----> 1\u001b[1;33m \u001b[0mmean_strain\u001b[0m \u001b[1;33m=\u001b[0m \u001b[0mvol_elem_resp\u001b[0m\u001b[1;33m[\u001b[0m\u001b[1;34m'phase_data'\u001b[0m\u001b[1;33m]\u001b[0m\u001b[1;33m[\u001b[0m\u001b[1;34m'vol_avg_equivalent_strain'\u001b[0m\u001b[1;33m]\u001b[0m\u001b[1;33m[\u001b[0m\u001b[1;34m'data'\u001b[0m\u001b[1;33m]\u001b[0m\u001b[1;33m\u001b[0m\u001b[1;33m\u001b[0m\u001b[0m\n\u001b[0m\u001b[0;32m      2\u001b[0m \u001b[0mmean_stress\u001b[0m \u001b[1;33m=\u001b[0m \u001b[0mvol_elem_resp\u001b[0m\u001b[1;33m[\u001b[0m\u001b[1;34m'phase_data'\u001b[0m\u001b[1;33m]\u001b[0m\u001b[1;33m[\u001b[0m\u001b[1;34m'vol_avg_equivalent_stress'\u001b[0m\u001b[1;33m]\u001b[0m\u001b[1;33m[\u001b[0m\u001b[1;34m'data'\u001b[0m\u001b[1;33m]\u001b[0m\u001b[1;33m\u001b[0m\u001b[1;33m\u001b[0m\u001b[0m\n",
      "\u001b[1;31mTypeError\u001b[0m: 'NoneType' object is not subscriptable"
     ]
    }
   ],
   "source": [
    "mean_strain = vol_elem_resp['phase_data']['vol_avg_equivalent_strain']['data']\n",
    "mean_stress = vol_elem_resp['phase_data']['vol_avg_equivalent_stress']['data']"
   ]
  },
  {
   "cell_type": "code",
   "execution_count": 6,
   "id": "24960493",
   "metadata": {},
   "outputs": [
    {
     "name": "stdout",
     "output_type": "stream",
     "text": [
      "None\n"
     ]
    },
    {
     "ename": "TypeError",
     "evalue": "'NoneType' object is not subscriptable",
     "output_type": "error",
     "traceback": [
      "\u001b[1;31m---------------------------------------------------------------------------\u001b[0m",
      "\u001b[1;31mTypeError\u001b[0m                                 Traceback (most recent call last)",
      "\u001b[1;32m<ipython-input-6-3082d0f1a3df>\u001b[0m in \u001b[0;36m<module>\u001b[1;34m\u001b[0m\n\u001b[0;32m      1\u001b[0m \u001b[0mprint\u001b[0m\u001b[1;33m(\u001b[0m\u001b[0mvol_elem_resp\u001b[0m\u001b[1;33m)\u001b[0m\u001b[1;33m\u001b[0m\u001b[1;33m\u001b[0m\u001b[0m\n\u001b[1;32m----> 2\u001b[1;33m \u001b[0mprint\u001b[0m\u001b[1;33m(\u001b[0m\u001b[0mvol_elem_resp\u001b[0m\u001b[1;33m[\u001b[0m\u001b[1;34m'phase_data'\u001b[0m\u001b[1;33m]\u001b[0m\u001b[1;33m)\u001b[0m\u001b[1;33m\u001b[0m\u001b[1;33m\u001b[0m\u001b[0m\n\u001b[0m\u001b[0;32m      3\u001b[0m \u001b[0mprint\u001b[0m\u001b[1;33m(\u001b[0m\u001b[0mvol_elem_resp\u001b[0m\u001b[1;33m[\u001b[0m\u001b[1;34m'phase_data'\u001b[0m\u001b[1;33m]\u001b[0m\u001b[1;33m[\u001b[0m\u001b[1;34m'vol_avg_equivalent_strain'\u001b[0m\u001b[1;33m]\u001b[0m\u001b[1;33m)\u001b[0m\u001b[1;33m\u001b[0m\u001b[1;33m\u001b[0m\u001b[0m\n\u001b[0;32m      4\u001b[0m \u001b[0mprint\u001b[0m\u001b[1;33m(\u001b[0m\u001b[0mvol_elem_resp\u001b[0m\u001b[1;33m[\u001b[0m\u001b[1;34m'phase_data'\u001b[0m\u001b[1;33m]\u001b[0m\u001b[1;33m[\u001b[0m\u001b[1;34m'vol_avg_equivalent_stress'\u001b[0m\u001b[1;33m]\u001b[0m\u001b[1;33m[\u001b[0m\u001b[1;34m'data'\u001b[0m\u001b[1;33m]\u001b[0m\u001b[1;33m)\u001b[0m\u001b[1;33m\u001b[0m\u001b[1;33m\u001b[0m\u001b[0m\n",
      "\u001b[1;31mTypeError\u001b[0m: 'NoneType' object is not subscriptable"
     ]
    }
   ],
   "source": [
    "print(vol_elem_resp)\n",
    "print(vol_elem_resp['phase_data'])\n",
    "print(vol_elem_resp['phase_data']['vol_avg_equivalent_strain'])\n",
    "print(vol_elem_resp['phase_data']['vol_avg_equivalent_stress']['data'])"
   ]
  },
  {
   "cell_type": "code",
   "execution_count": null,
   "id": "86d9cb2f",
   "metadata": {},
   "outputs": [],
   "source": []
  }
 ],
 "metadata": {
  "kernelspec": {
   "display_name": "Python 3",
   "language": "python",
   "name": "python3"
  },
  "language_info": {
   "codemirror_mode": {
    "name": "ipython",
    "version": 3
   },
   "file_extension": ".py",
   "mimetype": "text/x-python",
   "name": "python",
   "nbconvert_exporter": "python",
   "pygments_lexer": "ipython3",
   "version": "3.8.8"
  }
 },
 "nbformat": 4,
 "nbformat_minor": 5
}
